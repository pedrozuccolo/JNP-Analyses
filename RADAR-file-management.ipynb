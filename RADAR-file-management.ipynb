{
 "cells": [
  {
   "cell_type": "markdown",
   "source": [
    "# File Management RADAR\n",
    "\n",
    "Files in RADAR are organized as follows:\n",
    "\n",
    "RADAR/project-folders/id-folders/measure-folder/csv-folders\n",
    "\n",
    "The objetive of this script is to create, for each project, a folder containing measurements for all participants"
   ],
   "metadata": {
    "collapsed": false
   }
  },
  {
   "cell_type": "code",
   "execution_count": 2,
   "outputs": [],
   "source": [
    "import os"
   ],
   "metadata": {
    "collapsed": false
   }
  },
  {
   "cell_type": "code",
   "execution_count": null,
   "outputs": [],
   "source": [
    "parent_directory =  JNP"
   ],
   "metadata": {
    "collapsed": false
   }
  },
  {
   "cell_type": "code",
   "execution_count": null,
   "outputs": [],
   "source": [
    "#iterate over first level\n",
    "for folders in os.listdir(parent_directory):\n",
    "\n",
    "    #for each item that is a directory, then:\n",
    "    if not folders.startswith(\".\"):\n",
    "\n",
    "        #iterate over second level:\n",
    "        for subfolders in os.listdir(parent_directory + folders):\n",
    "\n",
    "            #if folder in second levels matches the target, then:\n",
    "            if subfolders == target_directory:\n",
    "\n",
    "                #then iterate over the files\n",
    "                for files in os.listdir(parent_directory + folders + \"/\" + subfolders):\n",
    "\n",
    "                    #save origin path in a variable\n",
    "                    origin = parent_directory + folders + \"/\" + subfolders + \"/\" + files\n",
    "\n",
    "                    #split file name and save name and extension in separate variables\n",
    "                    data = os.path.splitext(files)\n",
    "                    name = data[0]\n",
    "                    extension = data[1]\n",
    "\n",
    "                    #make a new name based on first level\n",
    "                    new_base = name + \"_\"+ folders + extension\n",
    "\n",
    "                    #make a path based on this new name\n",
    "                    new_name = os.path.join(destination_directory, new_base)\n",
    "\n",
    "                    #move file from origin folder to destination folder and rename the file\n",
    "                    shutil.move(origin, new_name)\n"
   ],
   "metadata": {
    "collapsed": false
   }
  },
  {
   "cell_type": "code",
   "execution_count": null,
   "outputs": [],
   "source": [],
   "metadata": {
    "collapsed": false
   }
  }
 ],
 "metadata": {
  "kernelspec": {
   "display_name": "Python 3",
   "language": "python",
   "name": "python3"
  },
  "language_info": {
   "codemirror_mode": {
    "name": "ipython",
    "version": 2
   },
   "file_extension": ".py",
   "mimetype": "text/x-python",
   "name": "python",
   "nbconvert_exporter": "python",
   "pygments_lexer": "ipython2",
   "version": "2.7.6"
  }
 },
 "nbformat": 4,
 "nbformat_minor": 0
}
